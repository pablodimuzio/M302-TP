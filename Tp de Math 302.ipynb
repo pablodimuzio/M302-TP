{
 "cells": [
  {
   "cell_type": "markdown",
   "id": "edcd140b-2606-4cbc-b60b-189576983786",
   "metadata": {},
   "source": [
    "Wrappers:"
   ]
  },
  {
   "cell_type": "code",
   "execution_count": 1,
   "id": "e73286f0-ed48-43c4-8789-baede07a8c3d",
   "metadata": {},
   "outputs": [],
   "source": [
    "%display latex\n",
    "def Ker(A): # A matrix\n",
    "    return A.right_kernel()\n",
    "\n",
    "def Corg(A):\n",
    "    return dim(Ker(A))\n",
    "\n",
    "def basis(W):\n",
    "    return W.basis()\n",
    "\n",
    "def I(n):\n",
    "    return identity_matrix(QQ,n)\n",
    "\n",
    "def Zero(n):\n",
    "    return zero_matrix(QQ,n)\n",
    "\n",
    "def from_cols(cols):\n",
    "    return matrix(cols).transpose()\n",
    "\n",
    "def diagonal_matrix(l):\n",
    "    n = len(l)\n",
    "    Cn = VectorSpace(QQ,n).basis()\n",
    "    cols = []\n",
    "    for i in range(n):\n",
    "        cols.append(l[i]*Cn[i])\n",
    "    return from_cols(cols)\n",
    "\n",
    "def conjugate(A,U):\n",
    "    return U*A*U^-1\n",
    "\n",
    "def shift(n):\n",
    "    shr = Zero(n)\n",
    "    for i in range(n-1):\n",
    "        shr[i,i+1] = 1\n",
    "    return shr\n",
    "\n",
    "def Sp_with_mul(A):\n",
    "    return A.charpoly().roots()\n",
    "\n",
    "def Sp(A):\n",
    "    return [e[0] for e in Sp_with_mul(A)]\n",
    "\n",
    "def ext_Sp(A):\n",
    "    esp = []\n",
    "    for e in Sp_with_mul(A):\n",
    "        esp = esp + [e[0] for number in range(e[1])]\n",
    "    return esp\n",
    "\n",
    "def block_d(l):\n",
    "    return block_diagonal_matrix(l)\n",
    "\n",
    "def concatenate(l):\n",
    "    return [item for sublist in l for item in sublist]"
   ]
  },
  {
   "cell_type": "markdown",
   "id": "b870ee57-5320-4971-b7fb-83f7a458c07c",
   "metadata": {},
   "source": [
    "# Exo 1"
   ]
  },
  {
   "cell_type": "code",
   "execution_count": 2,
   "id": "b1555f7f-e2d2-4f2c-80e2-0664cf040af6",
   "metadata": {},
   "outputs": [
    {
     "data": {
      "text/html": [
       "<html><script type=\"math/tex; mode=display\">\\newcommand{\\Bold}[1]{\\mathbf{#1}}\\left(\\begin{array}{rrrrrr}\n",
       "-31 & -23 & -16 & 12 & 120 & -17 \\\\\n",
       "-3 & 7 & 0 & -12 & 60 & -21 \\\\\n",
       "-28 & -14 & -9 & -4 & 152 & -30 \\\\\n",
       "-36 & -20 & -16 & -1 & 192 & -32 \\\\\n",
       "-9 & -5 & -4 & 0 & 47 & -8 \\\\\n",
       "-1 & 1 & 0 & -4 & 20 & -3\n",
       "\\end{array}\\right)</script></html>"
      ],
      "text/latex": [
       "$$\\newcommand{\\Bold}[1]{\\mathbf{#1}}\\left(\\begin{array}{rrrrrr}\n",
       "-31 & -23 & -16 & 12 & 120 & -17 \\\\\n",
       "-3 & 7 & 0 & -12 & 60 & -21 \\\\\n",
       "-28 & -14 & -9 & -4 & 152 & -30 \\\\\n",
       "-36 & -20 & -16 & -1 & 192 & -32 \\\\\n",
       "-9 & -5 & -4 & 0 & 47 & -8 \\\\\n",
       "-1 & 1 & 0 & -4 & 20 & -3\n",
       "\\end{array}\\right)$$"
      ],
      "text/plain": [
       "[-31 -23 -16  12 120 -17]\n",
       "[ -3   7   0 -12  60 -21]\n",
       "[-28 -14  -9  -4 152 -30]\n",
       "[-36 -20 -16  -1 192 -32]\n",
       "[ -9  -5  -4   0  47  -8]\n",
       "[ -1   1   0  -4  20  -3]"
      ]
     },
     "execution_count": 2,
     "metadata": {},
     "output_type": "execute_result"
    }
   ],
   "source": [
    "A = matrix(QQ, [\n",
    "    [-31, -23, -16,  12, 120, -17],\n",
    "    [ -3,   7,   0, -12,  60, -21],\n",
    "    [-28, -14,  -9,  -4, 152, -30],\n",
    "    [-36, -20, -16,  -1, 192, -32],\n",
    "    [ -9,  -5,  -4,   0,  47,  -8],\n",
    "    [ -1,   1,   0,  -4,  20,  -3]\n",
    "    ]) \n",
    "A"
   ]
  },
  {
   "cell_type": "code",
   "execution_count": 3,
   "id": "e8b6c6ca",
   "metadata": {},
   "outputs": [
    {
     "data": {
      "text/html": [
       "<html><script type=\"math/tex; mode=display\">\\newcommand{\\Bold}[1]{\\mathbf{#1}}(x - 4) \\cdot (x - 2) \\cdot (x - 3)^{2} \\cdot (x + 1)^{2}</script></html>"
      ],
      "text/latex": [
       "$$\\newcommand{\\Bold}[1]{\\mathbf{#1}}(x - 4) \\cdot (x - 2) \\cdot (x - 3)^{2} \\cdot (x + 1)^{2}$$"
      ],
      "text/plain": [
       "(x - 4) * (x - 2) * (x - 3)^2 * (x + 1)^2"
      ]
     },
     "execution_count": 3,
     "metadata": {},
     "output_type": "execute_result"
    }
   ],
   "source": [
    "A.fcp()"
   ]
  },
  {
   "cell_type": "code",
   "execution_count": 4,
   "id": "2bd150ea",
   "metadata": {},
   "outputs": [
    {
     "data": {
      "text/html": [
       "<html><script type=\"math/tex; mode=display\">\\newcommand{\\Bold}[1]{\\mathbf{#1}}(x - 4) \\cdot (x - 3) \\cdot (x - 2) \\cdot (x + 1)</script></html>"
      ],
      "text/latex": [
       "$$\\newcommand{\\Bold}[1]{\\mathbf{#1}}(x - 4) \\cdot (x - 3) \\cdot (x - 2) \\cdot (x + 1)$$"
      ],
      "text/plain": [
       "(x - 4) * (x - 3) * (x - 2) * (x + 1)"
      ]
     },
     "execution_count": 4,
     "metadata": {},
     "output_type": "execute_result"
    }
   ],
   "source": [
    "A.minpoly().factor()"
   ]
  },
  {
   "cell_type": "markdown",
   "id": "2720da2e",
   "metadata": {},
   "source": [
    "On remarque que les racines sont les mêmes pour les deux polynômes."
   ]
  },
  {
   "cell_type": "code",
   "execution_count": 5,
   "id": "a170478b",
   "metadata": {},
   "outputs": [],
   "source": [
    "def singular_matrix(M,lam):\n",
    "    return lam*I(M.nrows()) - M"
   ]
  },
  {
   "cell_type": "code",
   "execution_count": 6,
   "id": "01fa683a",
   "metadata": {},
   "outputs": [
    {
     "data": {
      "text/html": [
       "<html><script type=\"math/tex; mode=display\">\\newcommand{\\Bold}[1]{\\mathbf{#1}}\\left[\\left(\\begin{array}{rrrrrr}\n",
       "35 & 23 & 16 & -12 & -120 & 17 \\\\\n",
       "3 & -3 & 0 & 12 & -60 & 21 \\\\\n",
       "28 & 14 & 13 & 4 & -152 & 30 \\\\\n",
       "36 & 20 & 16 & 5 & -192 & 32 \\\\\n",
       "9 & 5 & 4 & 0 & -43 & 8 \\\\\n",
       "1 & -1 & 0 & 4 & -20 & 7\n",
       "\\end{array}\\right), \\left(\\begin{array}{rrrrrr}\n",
       "34 & 23 & 16 & -12 & -120 & 17 \\\\\n",
       "3 & -4 & 0 & 12 & -60 & 21 \\\\\n",
       "28 & 14 & 12 & 4 & -152 & 30 \\\\\n",
       "36 & 20 & 16 & 4 & -192 & 32 \\\\\n",
       "9 & 5 & 4 & 0 & -44 & 8 \\\\\n",
       "1 & -1 & 0 & 4 & -20 & 6\n",
       "\\end{array}\\right), \\left(\\begin{array}{rrrrrr}\n",
       "33 & 23 & 16 & -12 & -120 & 17 \\\\\n",
       "3 & -5 & 0 & 12 & -60 & 21 \\\\\n",
       "28 & 14 & 11 & 4 & -152 & 30 \\\\\n",
       "36 & 20 & 16 & 3 & -192 & 32 \\\\\n",
       "9 & 5 & 4 & 0 & -45 & 8 \\\\\n",
       "1 & -1 & 0 & 4 & -20 & 5\n",
       "\\end{array}\\right), \\left(\\begin{array}{rrrrrr}\n",
       "30 & 23 & 16 & -12 & -120 & 17 \\\\\n",
       "3 & -8 & 0 & 12 & -60 & 21 \\\\\n",
       "28 & 14 & 8 & 4 & -152 & 30 \\\\\n",
       "36 & 20 & 16 & 0 & -192 & 32 \\\\\n",
       "9 & 5 & 4 & 0 & -48 & 8 \\\\\n",
       "1 & -1 & 0 & 4 & -20 & 2\n",
       "\\end{array}\\right)\\right]</script></html>"
      ],
      "text/latex": [
       "$$\\newcommand{\\Bold}[1]{\\mathbf{#1}}\\left[\\left(\\begin{array}{rrrrrr}\n",
       "35 & 23 & 16 & -12 & -120 & 17 \\\\\n",
       "3 & -3 & 0 & 12 & -60 & 21 \\\\\n",
       "28 & 14 & 13 & 4 & -152 & 30 \\\\\n",
       "36 & 20 & 16 & 5 & -192 & 32 \\\\\n",
       "9 & 5 & 4 & 0 & -43 & 8 \\\\\n",
       "1 & -1 & 0 & 4 & -20 & 7\n",
       "\\end{array}\\right), \\left(\\begin{array}{rrrrrr}\n",
       "34 & 23 & 16 & -12 & -120 & 17 \\\\\n",
       "3 & -4 & 0 & 12 & -60 & 21 \\\\\n",
       "28 & 14 & 12 & 4 & -152 & 30 \\\\\n",
       "36 & 20 & 16 & 4 & -192 & 32 \\\\\n",
       "9 & 5 & 4 & 0 & -44 & 8 \\\\\n",
       "1 & -1 & 0 & 4 & -20 & 6\n",
       "\\end{array}\\right), \\left(\\begin{array}{rrrrrr}\n",
       "33 & 23 & 16 & -12 & -120 & 17 \\\\\n",
       "3 & -5 & 0 & 12 & -60 & 21 \\\\\n",
       "28 & 14 & 11 & 4 & -152 & 30 \\\\\n",
       "36 & 20 & 16 & 3 & -192 & 32 \\\\\n",
       "9 & 5 & 4 & 0 & -45 & 8 \\\\\n",
       "1 & -1 & 0 & 4 & -20 & 5\n",
       "\\end{array}\\right), \\left(\\begin{array}{rrrrrr}\n",
       "30 & 23 & 16 & -12 & -120 & 17 \\\\\n",
       "3 & -8 & 0 & 12 & -60 & 21 \\\\\n",
       "28 & 14 & 8 & 4 & -152 & 30 \\\\\n",
       "36 & 20 & 16 & 0 & -192 & 32 \\\\\n",
       "9 & 5 & 4 & 0 & -48 & 8 \\\\\n",
       "1 & -1 & 0 & 4 & -20 & 2\n",
       "\\end{array}\\right)\\right]$$"
      ],
      "text/plain": [
       "[\n",
       "[  35   23   16  -12 -120   17]  [  34   23   16  -12 -120   17]\n",
       "[   3   -3    0   12  -60   21]  [   3   -4    0   12  -60   21]\n",
       "[  28   14   13    4 -152   30]  [  28   14   12    4 -152   30]\n",
       "[  36   20   16    5 -192   32]  [  36   20   16    4 -192   32]\n",
       "[   9    5    4    0  -43    8]  [   9    5    4    0  -44    8]\n",
       "[   1   -1    0    4  -20    7], [   1   -1    0    4  -20    6],\n",
       "\n",
       "[  33   23   16  -12 -120   17]  [  30   23   16  -12 -120   17]\n",
       "[   3   -5    0   12  -60   21]  [   3   -8    0   12  -60   21]\n",
       "[  28   14   11    4 -152   30]  [  28   14    8    4 -152   30]\n",
       "[  36   20   16    3 -192   32]  [  36   20   16    0 -192   32]\n",
       "[   9    5    4    0  -45    8]  [   9    5    4    0  -48    8]\n",
       "[   1   -1    0    4  -20    5], [   1   -1    0    4  -20    2]\n",
       "]"
      ]
     },
     "execution_count": 6,
     "metadata": {},
     "output_type": "execute_result"
    }
   ],
   "source": [
    "espaces_propres = [singular_matrix(A, lam[0]) for lam in A.minpoly().roots()]\n",
    "espaces_propres"
   ]
  },
  {
   "cell_type": "code",
   "execution_count": 7,
   "id": "10a54f32",
   "metadata": {},
   "outputs": [
    {
     "data": {
      "text/html": [
       "<html><script type=\"math/tex; mode=display\">\\newcommand{\\Bold}[1]{\\mathbf{#1}}\\left[\\mathrm{RowSpan}_{\\Bold{Q}}\\left(\\begin{array}{rrrrrr}\n",
       "1 & -\\frac{4}{7} & \\frac{2}{7} & \\frac{4}{7} & \\frac{1}{7} & -\\frac{1}{7}\n",
       "\\end{array}\\right), \\mathrm{RowSpan}_{\\Bold{Q}}\\left(\\begin{array}{rrrrrr}\n",
       "1 & 0 & \\frac{1}{2} & 1 & \\frac{1}{4} & 0 \\\\\n",
       "0 & 1 & \\frac{5}{6} & 1 & \\frac{1}{4} & \\frac{1}{3}\n",
       "\\end{array}\\right), \\mathrm{RowSpan}_{\\Bold{Q}}\\left(\\begin{array}{rrrrrr}\n",
       "1 & -\\frac{3}{14} & \\frac{4}{7} & \\frac{6}{7} & \\frac{3}{14} & -\\frac{1}{14}\n",
       "\\end{array}\\right), \\mathrm{RowSpan}_{\\Bold{Q}}\\left(\\begin{array}{rrrrrr}\n",
       "1 & 0 & \\frac{3}{4} & 1 & \\frac{1}{4} & 0 \\\\\n",
       "0 & 1 & \\frac{13}{12} & \\frac{4}{3} & \\frac{1}{4} & \\frac{1}{3}\n",
       "\\end{array}\\right)\\right]</script></html>"
      ],
      "text/latex": [
       "$$\\newcommand{\\Bold}[1]{\\mathbf{#1}}\\left[\\mathrm{RowSpan}_{\\Bold{Q}}\\left(\\begin{array}{rrrrrr}\n",
       "1 & -\\frac{4}{7} & \\frac{2}{7} & \\frac{4}{7} & \\frac{1}{7} & -\\frac{1}{7}\n",
       "\\end{array}\\right), \\mathrm{RowSpan}_{\\Bold{Q}}\\left(\\begin{array}{rrrrrr}\n",
       "1 & 0 & \\frac{1}{2} & 1 & \\frac{1}{4} & 0 \\\\\n",
       "0 & 1 & \\frac{5}{6} & 1 & \\frac{1}{4} & \\frac{1}{3}\n",
       "\\end{array}\\right), \\mathrm{RowSpan}_{\\Bold{Q}}\\left(\\begin{array}{rrrrrr}\n",
       "1 & -\\frac{3}{14} & \\frac{4}{7} & \\frac{6}{7} & \\frac{3}{14} & -\\frac{1}{14}\n",
       "\\end{array}\\right), \\mathrm{RowSpan}_{\\Bold{Q}}\\left(\\begin{array}{rrrrrr}\n",
       "1 & 0 & \\frac{3}{4} & 1 & \\frac{1}{4} & 0 \\\\\n",
       "0 & 1 & \\frac{13}{12} & \\frac{4}{3} & \\frac{1}{4} & \\frac{1}{3}\n",
       "\\end{array}\\right)\\right]$$"
      ],
      "text/plain": [
       "[Vector space of degree 6 and dimension 1 over Rational Field\n",
       " Basis matrix:\n",
       " [   1 -4/7  2/7  4/7  1/7 -1/7],\n",
       " Vector space of degree 6 and dimension 2 over Rational Field\n",
       " Basis matrix:\n",
       " [  1   0 1/2   1 1/4   0]\n",
       " [  0   1 5/6   1 1/4 1/3],\n",
       " Vector space of degree 6 and dimension 1 over Rational Field\n",
       " Basis matrix:\n",
       " [    1 -3/14   4/7   6/7  3/14 -1/14],\n",
       " Vector space of degree 6 and dimension 2 over Rational Field\n",
       " Basis matrix:\n",
       " [    1     0   3/4     1   1/4     0]\n",
       " [    0     1 13/12   4/3   1/4   1/3]]"
      ]
     },
     "execution_count": 7,
     "metadata": {},
     "output_type": "execute_result"
    }
   ],
   "source": [
    "bases_espaces_propres = [Ker(matrix) for matrix in espaces_propres]\n",
    "bases_espaces_propres"
   ]
  },
  {
   "cell_type": "code",
   "execution_count": 8,
   "id": "93820f34",
   "metadata": {},
   "outputs": [
    {
     "data": {
      "text/html": [
       "<html><script type=\"math/tex; mode=display\">\\newcommand{\\Bold}[1]{\\mathbf{#1}}\\mathrm{True}</script></html>"
      ],
      "text/latex": [
       "$$\\newcommand{\\Bold}[1]{\\mathbf{#1}}\\mathrm{True}$$"
      ],
      "text/plain": [
       "True"
      ]
     },
     "execution_count": 8,
     "metadata": {},
     "output_type": "execute_result"
    }
   ],
   "source": [
    "bases = [vecteur for l in [k.matrix() for k in bases_espaces_propres] for vecteur in l]\n",
    "span(bases, QQ).dimension() == 6"
   ]
  },
  {
   "cell_type": "markdown",
   "id": "67916212",
   "metadata": {},
   "source": [
    "On a la dimension de la somme directe des espaces propres de $\\bigoplus A = \\dim(\\mathbb{Q}^6) \\implies A$ diagonalisable par théorème 7.2 du cours"
   ]
  },
  {
   "cell_type": "code",
   "execution_count": 9,
   "id": "9b760526",
   "metadata": {},
   "outputs": [
    {
     "data": {
      "text/html": [
       "<html><script type=\"math/tex; mode=display\">\\newcommand{\\Bold}[1]{\\mathbf{#1}}\\left(\\begin{array}{r|r|r|r|r|r}\n",
       "4 & 0 & 0 & 0 & 0 & 0 \\\\\n",
       "\\hline\n",
       " 0 & 2 & 0 & 0 & 0 & 0 \\\\\n",
       "\\hline\n",
       " 0 & 0 & 3 & 0 & 0 & 0 \\\\\n",
       "\\hline\n",
       " 0 & 0 & 0 & 3 & 0 & 0 \\\\\n",
       "\\hline\n",
       " 0 & 0 & 0 & 0 & -1 & 0 \\\\\n",
       "\\hline\n",
       " 0 & 0 & 0 & 0 & 0 & -1\n",
       "\\end{array}\\right)</script></html>"
      ],
      "text/latex": [
       "$$\\newcommand{\\Bold}[1]{\\mathbf{#1}}\\left(\\begin{array}{r|r|r|r|r|r}\n",
       "4 & 0 & 0 & 0 & 0 & 0 \\\\\n",
       "\\hline\n",
       " 0 & 2 & 0 & 0 & 0 & 0 \\\\\n",
       "\\hline\n",
       " 0 & 0 & 3 & 0 & 0 & 0 \\\\\n",
       "\\hline\n",
       " 0 & 0 & 0 & 3 & 0 & 0 \\\\\n",
       "\\hline\n",
       " 0 & 0 & 0 & 0 & -1 & 0 \\\\\n",
       "\\hline\n",
       " 0 & 0 & 0 & 0 & 0 & -1\n",
       "\\end{array}\\right)$$"
      ],
      "text/plain": [
       "[ 4| 0| 0| 0| 0| 0]\n",
       "[--+--+--+--+--+--]\n",
       "[ 0| 2| 0| 0| 0| 0]\n",
       "[--+--+--+--+--+--]\n",
       "[ 0| 0| 3| 0| 0| 0]\n",
       "[--+--+--+--+--+--]\n",
       "[ 0| 0| 0| 3| 0| 0]\n",
       "[--+--+--+--+--+--]\n",
       "[ 0| 0| 0| 0|-1| 0]\n",
       "[--+--+--+--+--+--]\n",
       "[ 0| 0| 0| 0| 0|-1]"
      ]
     },
     "execution_count": 9,
     "metadata": {},
     "output_type": "execute_result"
    }
   ],
   "source": [
    "A.jordan_form()"
   ]
  },
  {
   "cell_type": "markdown",
   "id": "3cb14a83-be56-42ab-95c2-89d4fd9dc752",
   "metadata": {},
   "source": [
    "# Exo 2"
   ]
  },
  {
   "cell_type": "code",
   "execution_count": 10,
   "id": "8dc2aa48-7c38-4518-af27-08af91771fde",
   "metadata": {},
   "outputs": [
    {
     "data": {
      "text/html": [
       "<html><script type=\"math/tex; mode=display\">\\newcommand{\\Bold}[1]{\\mathbf{#1}}\\left(\\begin{array}{rrrrrr}\n",
       "1 & 1 & 2 & -2 & 1 & 0 \\\\\n",
       "3 & 1 & -6 & 5 & -1 & 1 \\\\\n",
       "\\frac{3}{2} & 1 & -1 & \\frac{1}{2} & 0 & \\frac{1}{2} \\\\\n",
       "-2 & -1 & 0 & 0 & -1 & 0 \\\\\n",
       "-5 & -3 & 2 & -1 & -1 & -1 \\\\\n",
       "2 & 1 & 0 & 0 & 1 & 0\n",
       "\\end{array}\\right)</script></html>"
      ],
      "text/latex": [
       "$$\\newcommand{\\Bold}[1]{\\mathbf{#1}}\\left(\\begin{array}{rrrrrr}\n",
       "1 & 1 & 2 & -2 & 1 & 0 \\\\\n",
       "3 & 1 & -6 & 5 & -1 & 1 \\\\\n",
       "\\frac{3}{2} & 1 & -1 & \\frac{1}{2} & 0 & \\frac{1}{2} \\\\\n",
       "-2 & -1 & 0 & 0 & -1 & 0 \\\\\n",
       "-5 & -3 & 2 & -1 & -1 & -1 \\\\\n",
       "2 & 1 & 0 & 0 & 1 & 0\n",
       "\\end{array}\\right)$$"
      ],
      "text/plain": [
       "[  1   1   2  -2   1   0]\n",
       "[  3   1  -6   5  -1   1]\n",
       "[3/2   1  -1 1/2   0 1/2]\n",
       "[ -2  -1   0   0  -1   0]\n",
       "[ -5  -3   2  -1  -1  -1]\n",
       "[  2   1   0   0   1   0]"
      ]
     },
     "execution_count": 10,
     "metadata": {},
     "output_type": "execute_result"
    }
   ],
   "source": [
    "N = matrix([\n",
    "    [1, 1, 2, -2, 1, 0],\n",
    "    [3, 1, -6, 5, -1, 1],\n",
    "    [3/2, 1, -1, 1/2, 0, 1/2],\n",
    "    [-2, -1, 0, 0, -1, 0],\n",
    "    [-5, -3, 2, -1, -1, -1],\n",
    "    [2, 1, 0, 0, 1, 0]])\n",
    "N"
   ]
  },
  {
   "cell_type": "code",
   "execution_count": 11,
   "id": "03738dd9-277a-4b92-a27e-3933eff6c859",
   "metadata": {},
   "outputs": [],
   "source": [
    "def nil_index(N, depth):\n",
    "    for k in range(depth):\n",
    "        if (N**k == Zero(N.nrows())):\n",
    "            return k\n",
    "        k+=1\n",
    "    return False"
   ]
  },
  {
   "cell_type": "code",
   "execution_count": 12,
   "id": "d7b0bf1a",
   "metadata": {},
   "outputs": [
    {
     "data": {
      "text/html": [
       "<html><script type=\"math/tex; mode=display\">\\newcommand{\\Bold}[1]{\\mathbf{#1}}3</script></html>"
      ],
      "text/latex": [
       "$$\\newcommand{\\Bold}[1]{\\mathbf{#1}}3$$"
      ],
      "text/plain": [
       "3"
      ]
     },
     "execution_count": 12,
     "metadata": {},
     "output_type": "execute_result"
    }
   ],
   "source": [
    "m= nil_index(N, 1000)\n",
    "m"
   ]
  },
  {
   "cell_type": "markdown",
   "id": "62b95225",
   "metadata": {},
   "source": [
    "$N$ est donc nilpotente d'indice 3."
   ]
  },
  {
   "cell_type": "code",
   "execution_count": 13,
   "id": "a83ceeb0",
   "metadata": {},
   "outputs": [
    {
     "data": {
      "text/html": [
       "<html><script type=\"math/tex; mode=display\">\\newcommand{\\Bold}[1]{\\mathbf{#1}}\\left[\\left(\\begin{array}{rrr}\n",
       "0 & 1 & 0 \\\\\n",
       "0 & 0 & 1 \\\\\n",
       "0 & 0 & 0\n",
       "\\end{array}\\right), \\left(\\begin{array}{rr}\n",
       "0 & 1 \\\\\n",
       "0 & 0\n",
       "\\end{array}\\right), \\left(\\begin{array}{r}\n",
       "0\n",
       "\\end{array}\\right)\\right]</script></html>"
      ],
      "text/latex": [
       "$$\\newcommand{\\Bold}[1]{\\mathbf{#1}}\\left[\\left(\\begin{array}{rrr}\n",
       "0 & 1 & 0 \\\\\n",
       "0 & 0 & 1 \\\\\n",
       "0 & 0 & 0\n",
       "\\end{array}\\right), \\left(\\begin{array}{rr}\n",
       "0 & 1 \\\\\n",
       "0 & 0\n",
       "\\end{array}\\right), \\left(\\begin{array}{r}\n",
       "0\n",
       "\\end{array}\\right)\\right]$$"
      ],
      "text/plain": [
       "[\n",
       "[0 1 0]            \n",
       "[0 0 1]  [0 1]     \n",
       "[0 0 0], [0 0], [0]\n",
       "]"
      ]
     },
     "execution_count": 13,
     "metadata": {},
     "output_type": "execute_result"
    }
   ],
   "source": [
    "seq = [shift(Corg(N^p)-Corg(N^(p-1))) for p in range(1,m+1)]\n",
    "seq"
   ]
  },
  {
   "cell_type": "code",
   "execution_count": 14,
   "id": "79f16766",
   "metadata": {},
   "outputs": [
    {
     "data": {
      "text/html": [
       "<html><script type=\"math/tex; mode=display\">\\newcommand{\\Bold}[1]{\\mathbf{#1}}\\left(\\begin{array}{rrr|rr|r}\n",
       "0 & 1 & 0 & 0 & 0 & 0 \\\\\n",
       "0 & 0 & 1 & 0 & 0 & 0 \\\\\n",
       "0 & 0 & 0 & 0 & 0 & 0 \\\\\n",
       "\\hline\n",
       " 0 & 0 & 0 & 0 & 1 & 0 \\\\\n",
       "0 & 0 & 0 & 0 & 0 & 0 \\\\\n",
       "\\hline\n",
       " 0 & 0 & 0 & 0 & 0 & 0\n",
       "\\end{array}\\right)</script></html>"
      ],
      "text/latex": [
       "$$\\newcommand{\\Bold}[1]{\\mathbf{#1}}\\left(\\begin{array}{rrr|rr|r}\n",
       "0 & 1 & 0 & 0 & 0 & 0 \\\\\n",
       "0 & 0 & 1 & 0 & 0 & 0 \\\\\n",
       "0 & 0 & 0 & 0 & 0 & 0 \\\\\n",
       "\\hline\n",
       " 0 & 0 & 0 & 0 & 1 & 0 \\\\\n",
       "0 & 0 & 0 & 0 & 0 & 0 \\\\\n",
       "\\hline\n",
       " 0 & 0 & 0 & 0 & 0 & 0\n",
       "\\end{array}\\right)$$"
      ],
      "text/plain": [
       "[0 1 0|0 0|0]\n",
       "[0 0 1|0 0|0]\n",
       "[0 0 0|0 0|0]\n",
       "[-----+---+-]\n",
       "[0 0 0|0 1|0]\n",
       "[0 0 0|0 0|0]\n",
       "[-----+---+-]\n",
       "[0 0 0|0 0|0]"
      ]
     },
     "execution_count": 14,
     "metadata": {},
     "output_type": "execute_result"
    }
   ],
   "source": [
    "seq_mat = block_d(seq)\n",
    "seq_mat"
   ]
  },
  {
   "cell_type": "code",
   "execution_count": 15,
   "id": "3a7b0a5f",
   "metadata": {},
   "outputs": [
    {
     "data": {
      "text/html": [
       "<html><script type=\"math/tex; mode=display\">\\newcommand{\\Bold}[1]{\\mathbf{#1}}\\left[\\left[\\left(\\begin{array}{r}\n",
       "1 \\\\\n",
       "0 \\\\\n",
       "0 \\\\\n",
       "0 \\\\\n",
       "0 \\\\\n",
       "0\n",
       "\\end{array}\\right), \\left(\\begin{array}{r}\n",
       "1 \\\\\n",
       "3 \\\\\n",
       "\\frac{3}{2} \\\\\n",
       "-2 \\\\\n",
       "-5 \\\\\n",
       "2\n",
       "\\end{array}\\right), \\left(\\begin{array}{r}\n",
       "6 \\\\\n",
       "-6 \\\\\n",
       "3 \\\\\n",
       "0 \\\\\n",
       "-6 \\\\\n",
       "0\n",
       "\\end{array}\\right)\\right], \\left[\\left(\\begin{array}{r}\n",
       "1 \\\\\n",
       "0 \\\\\n",
       "0 \\\\\n",
       "0 \\\\\n",
       "0 \\\\\n",
       "-6\n",
       "\\end{array}\\right), \\left(\\begin{array}{r}\n",
       "1 \\\\\n",
       "-3 \\\\\n",
       "-\\frac{3}{2} \\\\\n",
       "-2 \\\\\n",
       "1 \\\\\n",
       "2\n",
       "\\end{array}\\right)\\right], \\left[\\left(\\begin{array}{r}\n",
       "1 \\\\\n",
       "0 \\\\\n",
       "0 \\\\\n",
       "-\\frac{1}{2} \\\\\n",
       "-2 \\\\\n",
       "-\\frac{5}{2}\n",
       "\\end{array}\\right)\\right]\\right]</script></html>"
      ],
      "text/latex": [
       "$$\\newcommand{\\Bold}[1]{\\mathbf{#1}}\\left[\\left[\\left(\\begin{array}{r}\n",
       "1 \\\\\n",
       "0 \\\\\n",
       "0 \\\\\n",
       "0 \\\\\n",
       "0 \\\\\n",
       "0\n",
       "\\end{array}\\right), \\left(\\begin{array}{r}\n",
       "1 \\\\\n",
       "3 \\\\\n",
       "\\frac{3}{2} \\\\\n",
       "-2 \\\\\n",
       "-5 \\\\\n",
       "2\n",
       "\\end{array}\\right), \\left(\\begin{array}{r}\n",
       "6 \\\\\n",
       "-6 \\\\\n",
       "3 \\\\\n",
       "0 \\\\\n",
       "-6 \\\\\n",
       "0\n",
       "\\end{array}\\right)\\right], \\left[\\left(\\begin{array}{r}\n",
       "1 \\\\\n",
       "0 \\\\\n",
       "0 \\\\\n",
       "0 \\\\\n",
       "0 \\\\\n",
       "-6\n",
       "\\end{array}\\right), \\left(\\begin{array}{r}\n",
       "1 \\\\\n",
       "-3 \\\\\n",
       "-\\frac{3}{2} \\\\\n",
       "-2 \\\\\n",
       "1 \\\\\n",
       "2\n",
       "\\end{array}\\right)\\right], \\left[\\left(\\begin{array}{r}\n",
       "1 \\\\\n",
       "0 \\\\\n",
       "0 \\\\\n",
       "-\\frac{1}{2} \\\\\n",
       "-2 \\\\\n",
       "-\\frac{5}{2}\n",
       "\\end{array}\\right)\\right]\\right]$$"
      ],
      "text/plain": [
       "[[\n",
       "[1]  [  1]  [ 6]\n",
       "[0]  [  3]  [-6]\n",
       "[0]  [3/2]  [ 3]\n",
       "[0]  [ -2]  [ 0]\n",
       "[0]  [ -5]  [-6]\n",
       "[0], [  2], [ 0]\n",
       "],\n",
       " [\n",
       "[ 1]  [   1]\n",
       "[ 0]  [  -3]\n",
       "[ 0]  [-3/2]\n",
       "[ 0]  [  -2]\n",
       "[ 0]  [   1]\n",
       "[-6], [   2]\n",
       "],\n",
       " [\n",
       "[   1]\n",
       "[   0]\n",
       "[   0]\n",
       "[-1/2]\n",
       "[  -2]\n",
       "[-5/2]\n",
       "]]"
      ]
     },
     "execution_count": 15,
     "metadata": {},
     "output_type": "execute_result"
    }
   ],
   "source": [
    "young = [[],[],[]]\n",
    "\n",
    "for k in [3,2,1]:\n",
    "    for x in Ker(N**k).matrix():\n",
    "        if not span([x], QQ).is_subspace(span([vector(k) for k in concatenate(young)], QQ)):\n",
    "            for y in range(k):\n",
    "                young[3-k].append(N**(y)*from_cols(Matrix(x)))\n",
    "            break\n",
    "young"
   ]
  },
  {
   "cell_type": "code",
   "execution_count": 16,
   "id": "224a1ceb",
   "metadata": {},
   "outputs": [
    {
     "data": {
      "text/html": [
       "<html><script type=\"math/tex; mode=display\">\\newcommand{\\Bold}[1]{\\mathbf{#1}}\\left(\\begin{array}{rrrrrr}\n",
       "6 & 1 & 1 & 1 & 1 & 1 \\\\\n",
       "-6 & 3 & 0 & -3 & 0 & 0 \\\\\n",
       "3 & \\frac{3}{2} & 0 & -\\frac{3}{2} & 0 & 0 \\\\\n",
       "0 & -2 & 0 & -2 & 0 & -\\frac{1}{2} \\\\\n",
       "-6 & -5 & 0 & 1 & 0 & -2 \\\\\n",
       "0 & 2 & 0 & 2 & -6 & -\\frac{5}{2}\n",
       "\\end{array}\\right)</script></html>"
      ],
      "text/latex": [
       "$$\\newcommand{\\Bold}[1]{\\mathbf{#1}}\\left(\\begin{array}{rrrrrr}\n",
       "6 & 1 & 1 & 1 & 1 & 1 \\\\\n",
       "-6 & 3 & 0 & -3 & 0 & 0 \\\\\n",
       "3 & \\frac{3}{2} & 0 & -\\frac{3}{2} & 0 & 0 \\\\\n",
       "0 & -2 & 0 & -2 & 0 & -\\frac{1}{2} \\\\\n",
       "-6 & -5 & 0 & 1 & 0 & -2 \\\\\n",
       "0 & 2 & 0 & 2 & -6 & -\\frac{5}{2}\n",
       "\\end{array}\\right)$$"
      ],
      "text/plain": [
       "[   6    1    1    1    1    1]\n",
       "[  -6    3    0   -3    0    0]\n",
       "[   3  3/2    0 -3/2    0    0]\n",
       "[   0   -2    0   -2    0 -1/2]\n",
       "[  -6   -5    0    1    0   -2]\n",
       "[   0    2    0    2   -6 -5/2]"
      ]
     },
     "execution_count": 16,
     "metadata": {},
     "output_type": "execute_result"
    }
   ],
   "source": [
    "U = []\n",
    "\n",
    "for y in range(len(young)):\n",
    "    for z in young[len(young)-y-1]:\n",
    "        U.insert(0,z.list())\n",
    "\n",
    "U = from_cols(Matrix(QQ,U))\n",
    "U"
   ]
  },
  {
   "cell_type": "code",
   "execution_count": 17,
   "id": "d3f13845",
   "metadata": {},
   "outputs": [
    {
     "data": {
      "text/html": [
       "<html><script type=\"math/tex; mode=display\">\\newcommand{\\Bold}[1]{\\mathbf{#1}}\\mathrm{True}</script></html>"
      ],
      "text/latex": [
       "$$\\newcommand{\\Bold}[1]{\\mathbf{#1}}\\mathrm{True}$$"
      ],
      "text/plain": [
       "True"
      ]
     },
     "execution_count": 17,
     "metadata": {},
     "output_type": "execute_result"
    }
   ],
   "source": [
    "conjugate(seq_mat, U) == N"
   ]
  },
  {
   "cell_type": "markdown",
   "id": "2e2dc5a1",
   "metadata": {},
   "source": [
    "On a donc la somme directe du numéro 4 conjuguée avec $U = N$"
   ]
  },
  {
   "cell_type": "code",
   "execution_count": 18,
   "id": "072daf93",
   "metadata": {},
   "outputs": [],
   "source": [
    "def pseudo_diagonalisation(matrice, depth):\n",
    "    m = nil_index(matrice, depth)\n",
    "    \n",
    "    seq = [shift(Corg(N^p)-Corg(N^(p-1))) for p in range(1,m+1)]\n",
    "    \n",
    "    seq_mat = block_d(seq)\n",
    "        \n",
    "    young = [[] for k in range(m)]\n",
    "\n",
    "    for k in range(1, m+1):\n",
    "        for x in Ker(N**(m-k+1)).matrix():\n",
    "            if not span([x], QQ).is_subspace(span([vector(k) for k in concatenate(young)], QQ)):\n",
    "                for y in range(m-k+1):\n",
    "                    young[k-1].append(N**(y)*from_cols(Matrix(x)))\n",
    "                break\n",
    "    \n",
    "    U = []\n",
    "\n",
    "    for y in range(len(young)):\n",
    "        for z in young[len(young)-y-1]:\n",
    "            U.insert(0,z.list())\n",
    "\n",
    "    U = from_cols(Matrix(QQ,U))\n",
    "    \n",
    "    return seq_mat, U"
   ]
  },
  {
   "cell_type": "code",
   "execution_count": 22,
   "id": "4af86d4d",
   "metadata": {},
   "outputs": [
    {
     "data": {
      "text/html": [
       "<html><script type=\"math/tex; mode=display\">\\newcommand{\\Bold}[1]{\\mathbf{#1}}\\left(\\left(\\begin{array}{rrr|rr|r}\n",
       "0 & 1 & 0 & 0 & 0 & 0 \\\\\n",
       "0 & 0 & 1 & 0 & 0 & 0 \\\\\n",
       "0 & 0 & 0 & 0 & 0 & 0 \\\\\n",
       "\\hline\n",
       " 0 & 0 & 0 & 0 & 1 & 0 \\\\\n",
       "0 & 0 & 0 & 0 & 0 & 0 \\\\\n",
       "\\hline\n",
       " 0 & 0 & 0 & 0 & 0 & 0\n",
       "\\end{array}\\right), \\left(\\begin{array}{rrrrrr}\n",
       "6 & 1 & 1 & 1 & 1 & 1 \\\\\n",
       "-6 & 3 & 0 & -3 & 0 & 0 \\\\\n",
       "3 & \\frac{3}{2} & 0 & -\\frac{3}{2} & 0 & 0 \\\\\n",
       "0 & -2 & 0 & -2 & 0 & -\\frac{1}{2} \\\\\n",
       "-6 & -5 & 0 & 1 & 0 & -2 \\\\\n",
       "0 & 2 & 0 & 2 & -6 & -\\frac{5}{2}\n",
       "\\end{array}\\right)\\right)</script></html>"
      ],
      "text/latex": [
       "$$\\newcommand{\\Bold}[1]{\\mathbf{#1}}\\left(\\left(\\begin{array}{rrr|rr|r}\n",
       "0 & 1 & 0 & 0 & 0 & 0 \\\\\n",
       "0 & 0 & 1 & 0 & 0 & 0 \\\\\n",
       "0 & 0 & 0 & 0 & 0 & 0 \\\\\n",
       "\\hline\n",
       " 0 & 0 & 0 & 0 & 1 & 0 \\\\\n",
       "0 & 0 & 0 & 0 & 0 & 0 \\\\\n",
       "\\hline\n",
       " 0 & 0 & 0 & 0 & 0 & 0\n",
       "\\end{array}\\right), \\left(\\begin{array}{rrrrrr}\n",
       "6 & 1 & 1 & 1 & 1 & 1 \\\\\n",
       "-6 & 3 & 0 & -3 & 0 & 0 \\\\\n",
       "3 & \\frac{3}{2} & 0 & -\\frac{3}{2} & 0 & 0 \\\\\n",
       "0 & -2 & 0 & -2 & 0 & -\\frac{1}{2} \\\\\n",
       "-6 & -5 & 0 & 1 & 0 & -2 \\\\\n",
       "0 & 2 & 0 & 2 & -6 & -\\frac{5}{2}\n",
       "\\end{array}\\right)\\right)$$"
      ],
      "text/plain": [
       "(\n",
       "[0 1 0|0 0|0]                                 \n",
       "[0 0 1|0 0|0]                                 \n",
       "[0 0 0|0 0|0]  [   6    1    1    1    1    1]\n",
       "[-----+---+-]  [  -6    3    0   -3    0    0]\n",
       "[0 0 0|0 1|0]  [   3  3/2    0 -3/2    0    0]\n",
       "[0 0 0|0 0|0]  [   0   -2    0   -2    0 -1/2]\n",
       "[-----+---+-]  [  -6   -5    0    1    0   -2]\n",
       "[0 0 0|0 0|0], [   0    2    0    2   -6 -5/2]\n",
       ")"
      ]
     },
     "execution_count": 22,
     "metadata": {},
     "output_type": "execute_result"
    }
   ],
   "source": [
    "pseudo_diagonalisation(N, 10)"
   ]
  },
  {
   "cell_type": "code",
   "execution_count": null,
   "id": "d9c55730",
   "metadata": {},
   "outputs": [],
   "source": []
  }
 ],
 "metadata": {
  "kernelspec": {
   "display_name": "SageMath 9.5",
   "language": "sage",
   "name": "sagemath"
  },
  "language_info": {
   "codemirror_mode": {
    "name": "ipython",
    "version": 3
   },
   "file_extension": ".py",
   "mimetype": "text/x-python",
   "name": "python",
   "nbconvert_exporter": "python",
   "pygments_lexer": "ipython3",
   "version": "3.10.12"
  }
 },
 "nbformat": 4,
 "nbformat_minor": 5
}
